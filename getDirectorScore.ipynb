{
 "cells": [
  {
   "cell_type": "markdown",
   "metadata": {},
   "source": [
    "# DirectorScore 구하는 코드\n",
    "- 필요 코드 : credits.csv, movies_cleaned_removed_onehot.csv, movies_metadata_date.csv\n",
    "- 아웃풋 코드 : movies_cleaned_removed_onehot_director2.csv"
   ]
  },
  {
   "cell_type": "code",
   "execution_count": 1,
   "metadata": {},
   "outputs": [],
   "source": [
    "import pandas as pd\n",
    "import ast"
   ]
  },
  {
   "cell_type": "code",
   "execution_count": 2,
   "metadata": {},
   "outputs": [
    {
     "name": "stdout",
     "output_type": "stream",
     "text": [
      "                                                cast  \\\n",
      "0  [{'cast_id': 14, 'character': 'Woody (voice)',...   \n",
      "1  [{'cast_id': 1, 'character': 'Alan Parrish', '...   \n",
      "2  [{'cast_id': 2, 'character': 'Max Goldman', 'c...   \n",
      "3  [{'cast_id': 1, 'character': \"Savannah 'Vannah...   \n",
      "4  [{'cast_id': 1, 'character': 'George Banks', '...   \n",
      "\n",
      "                                                crew     id  \n",
      "0  [{'credit_id': '52fe4284c3a36847f8024f49', 'de...    862  \n",
      "1  [{'credit_id': '52fe44bfc3a36847f80a7cd1', 'de...   8844  \n",
      "2  [{'credit_id': '52fe466a9251416c75077a89', 'de...  15602  \n",
      "3  [{'credit_id': '52fe44779251416c91011acb', 'de...  31357  \n",
      "4  [{'credit_id': '52fe44959251416c75039ed7', 'de...  11862  \n"
     ]
    }
   ],
   "source": [
    "cred = pd.read_csv('data/credits.csv')\n",
    "\n",
    "print(cred.head())"
   ]
  },
  {
   "cell_type": "code",
   "execution_count": 3,
   "metadata": {},
   "outputs": [
    {
     "name": "stdout",
     "output_type": "stream",
     "text": [
      "     director_name  director_id     id\n",
      "0    John Lasseter       7879.0    862\n",
      "1     Joe Johnston       4945.0   8844\n",
      "2    Howard Deutch      26502.0  15602\n",
      "3  Forest Whitaker       2178.0  31357\n",
      "4    Charles Shyer      56106.0  11862\n"
     ]
    },
    {
     "name": "stderr",
     "output_type": "stream",
     "text": [
      "/var/folders/_4/mvxsg_zj2q35755ky_zps0780000gn/T/ipykernel_47799/3864129096.py:19: SettingWithCopyWarning: \n",
      "A value is trying to be set on a copy of a slice from a DataFrame\n",
      "\n",
      "See the caveats in the documentation: https://pandas.pydata.org/pandas-docs/stable/user_guide/indexing.html#returning-a-view-versus-a-copy\n",
      "  director_df.dropna(subset=['director_name', 'director_id'], inplace=True)\n"
     ]
    }
   ],
   "source": [
    "# crew column 안에 있는 job이 director인 사람의 이름과 id 뽑아내기\n",
    "# crew column은 list of dictionary 형태로 되어있음\n",
    "\n",
    "import ast\n",
    "\n",
    "# Define a function to extract the director's name and id from the crew column\n",
    "def extract_director_info(crew_data):\n",
    "  crew_list = ast.literal_eval(crew_data)\n",
    "  for member in crew_list:\n",
    "    if member.get('job') == 'Director':\n",
    "      return pd.Series([member.get('name'), member.get('id')])\n",
    "  return pd.Series([None, None])\n",
    "\n",
    "# Apply the function to extract director information and movie ID\n",
    "cred[['director_name', 'director_id']] = cred['crew'].apply(extract_director_info)\n",
    "director_df = cred[['director_name', 'director_id', 'id']]\n",
    "\n",
    "# Drop rows where director information is missing\n",
    "director_df.dropna(subset=['director_name', 'director_id'], inplace=True)\n",
    "\n",
    "print(director_df.head())"
   ]
  },
  {
   "cell_type": "code",
   "execution_count": 4,
   "metadata": {},
   "outputs": [],
   "source": [
    "# director_df 저장\n",
    "director_df.to_csv('data/directors.csv', index=False)"
   ]
  },
  {
   "cell_type": "code",
   "execution_count": 5,
   "metadata": {},
   "outputs": [
    {
     "name": "stdout",
     "output_type": "stream",
     "text": [
      "      director_name  director_id     id    budget  popularity    revenue  \\\n",
      "0     John Lasseter       7879.0    862  30000000   21.946943  394436586   \n",
      "1     Howard Deutch      26502.0  15602  25000000   11.712900   71500000   \n",
      "2   Martin Campbell      10702.0    710  58000000   14.686036  352200000   \n",
      "3    Steve Oedekerk       4489.0   9273  30000000    8.205448  212385533   \n",
      "4  Barry Sonnenfeld       5174.0   8012  30250000   12.669608  115101622   \n",
      "\n",
      "   runtime                           title  vote_average  vote_count  ...  \\\n",
      "0     81.0                       Toy Story           7.7      5415.0  ...   \n",
      "1    101.0                Grumpier Old Men           6.5        92.0  ...   \n",
      "2    130.0                       GoldenEye           6.6      1194.0  ...   \n",
      "3     90.0  Ace Ventura: When Nature Calls           6.1      1128.0  ...   \n",
      "4    105.0                      Get Shorty           6.4       305.0  ...   \n",
      "\n",
      "   Family  Mystery  Romance  Animation Drama  Comedy  Foreign  Adventure  \\\n",
      "0       1        0        0          1     0       1        0          0   \n",
      "1       0        0        1          0     0       1        0          0   \n",
      "2       0        0        0          0     0       0        0          1   \n",
      "3       0        0        0          0     0       1        0          1   \n",
      "4       0        0        0          0     0       1        0          0   \n",
      "\n",
      "   Science Fiction  Horror  \n",
      "0                0       0  \n",
      "1                0       0  \n",
      "2                0       0  \n",
      "3                0       0  \n",
      "4                0       0  \n",
      "\n",
      "[5 rows x 35 columns]\n"
     ]
    }
   ],
   "source": [
    "result_df = pd.read_csv('data/movies_cleaned_removed_onehot.csv')\n",
    "\n",
    "\n",
    "print(result_df.head())\n"
   ]
  },
  {
   "cell_type": "code",
   "execution_count": 6,
   "metadata": {},
   "outputs": [],
   "source": [
    "# 저장\n",
    "result_df.to_csv('data/movies_cleaned_removed_onehot_director.csv', index=False)"
   ]
  },
  {
   "cell_type": "code",
   "execution_count": 7,
   "metadata": {},
   "outputs": [
    {
     "name": "stdout",
     "output_type": "stream",
     "text": [
      "      director_name  director_id     id    budget  popularity    revenue  \\\n",
      "0     John Lasseter       7879.0    862  30000000   21.946943  394436586   \n",
      "1     Howard Deutch      26502.0  15602  25000000   11.712900   71500000   \n",
      "2   Martin Campbell      10702.0    710  58000000   14.686036  352200000   \n",
      "3    Steve Oedekerk       4489.0   9273  30000000    8.205448  212385533   \n",
      "4  Barry Sonnenfeld       5174.0   8012  30250000   12.669608  115101622   \n",
      "\n",
      "   runtime                           title  vote_average  vote_count  ...  \\\n",
      "0     81.0                       Toy Story           7.7      5415.0  ...   \n",
      "1    101.0                Grumpier Old Men           6.5        92.0  ...   \n",
      "2    130.0                       GoldenEye           6.6      1194.0  ...   \n",
      "3     90.0  Ace Ventura: When Nature Calls           6.1      1128.0  ...   \n",
      "4    105.0                      Get Shorty           6.4       305.0  ...   \n",
      "\n",
      "   Mystery  Romance  Animation  Drama Comedy  Foreign  Adventure  \\\n",
      "0        0        0          1      0      1        0          0   \n",
      "1        0        1          0      0      1        0          0   \n",
      "2        0        0          0      0      0        0          1   \n",
      "3        0        0          0      0      1        0          1   \n",
      "4        0        0          0      0      1        0          0   \n",
      "\n",
      "   Science Fiction  Horror                                 director_movie_ids  \n",
      "0                0       0  [862, 9487, 863, 13925, 920, 49013, 13927, 139...  \n",
      "1                0       0  [15602, 41579, 15143, 27472, 11522, 10393, 261...  \n",
      "2                0       0  [710, 10447, 9342, 11678, 41952, 9839, 52660, ...  \n",
      "3                0       0                  [9273, 11891, 11676, 9907, 14962]  \n",
      "4                0       0  [8012, 2758, 9024, 607, 2907, 8487, 2185, 608,...  \n",
      "\n",
      "[5 rows x 36 columns]\n"
     ]
    }
   ],
   "source": [
    "director_movies_dict = director_df.groupby('director_id')['id'].apply(list).to_dict()\n",
    "\n",
    "# Define a function to get the list of movie IDs for each director in result_df\n",
    "def get_director_movie_list(director_id):\n",
    "    return director_movies_dict.get(director_id, [])\n",
    "\n",
    "# Apply the function to add a new column to result_df with updated director information\n",
    "result_df['director_movie_ids'] = result_df['director_id'].apply(get_director_movie_list)\n",
    "\n",
    "print(result_df.head())\n"
   ]
  },
  {
   "cell_type": "code",
   "execution_count": 10,
   "metadata": {},
   "outputs": [],
   "source": [
    "metadata = pd.read_csv('data/movies_metadata_date.csv')"
   ]
  },
  {
   "cell_type": "code",
   "execution_count": 12,
   "metadata": {},
   "outputs": [],
   "source": [
    "from datetime import datetime, timedelta\n",
    "\n",
    "# Group director_df by director_id to create a dictionary of movie IDs\n",
    "director_movies_dict = director_df.groupby('director_id')['id'].apply(list).to_dict()\n",
    "\n",
    "# Update the result_df with director movie IDs\n",
    "result_df['director_movie_ids'] = result_df['director_id'].apply(lambda x: director_movies_dict.get(x, []))\n",
    "\n",
    "# Prepare the release date in movies_cleaned_df\n",
    "metadata['release_year'] = metadata['release_year'].fillna(0).astype(int)\n",
    "metadata['release_month'] = metadata['release_month'].fillna(1).astype(int)\n",
    "metadata['release_day'] = metadata['release_day'].fillna(1).astype(int)\n",
    "\n",
    "# Create a release date column in movies_cleaned_df\n",
    "metadata['release_date'] = pd.to_datetime(\n",
    "    metadata[['release_year', 'release_month', 'release_day']].rename(\n",
    "        columns={'release_year': 'year', 'release_month': 'month', 'release_day': 'day'}\n",
    "    ),\n",
    "    errors = 'coerce'\n",
    ")\n",
    "\n",
    "# Create a dictionary to map movie IDs to release dates\n",
    "movie_release_dates = metadata.set_index('id')['release_date'].to_dict()\n",
    "\n",
    "# Define a function to filter movie IDs based on the release date within a specific range\n",
    "def filter_recent_movies_within_range(row):\n",
    "    movie_id = row['id']\n",
    "    director_movies = row['director_movie_ids']\n",
    "    \n",
    "    # Get the release date of the current movie\n",
    "    release_date = movie_release_dates.get(movie_id)\n",
    "    \n",
    "    if pd.isna(release_date):\n",
    "        return []\n",
    "    \n",
    "    # Define the cutoff date as 3 years before the release date\n",
    "    cutoff_date = release_date - timedelta(days=10*365)\n",
    "    \n",
    "    # Filter movies released within the range (cutoff_date, release_date - 1 day)\n",
    "    recent_movies = [\n",
    "        movie for movie in director_movies \n",
    "        if movie in movie_release_dates and cutoff_date < movie_release_dates[movie] < release_date\n",
    "    ]\n",
    "    \n",
    "    return recent_movies\n",
    "\n",
    "# Apply the function to filter the director_movie_ids in result_df\n",
    "result_df['director_movie_ids'] = result_df.apply(filter_recent_movies_within_range, axis=1)"
   ]
  },
  {
   "cell_type": "code",
   "execution_count": 13,
   "metadata": {},
   "outputs": [
    {
     "name": "stdout",
     "output_type": "stream",
     "text": [
      "      director_name  director_id     id    budget  popularity    revenue  \\\n",
      "0     John Lasseter       7879.0    862  30000000   21.946943  394436586   \n",
      "1     Howard Deutch      26502.0  15602  25000000   11.712900   71500000   \n",
      "2   Martin Campbell      10702.0    710  58000000   14.686036  352200000   \n",
      "3    Steve Oedekerk       4489.0   9273  30000000    8.205448  212385533   \n",
      "4  Barry Sonnenfeld       5174.0   8012  30250000   12.669608  115101622   \n",
      "\n",
      "   runtime                           title  vote_average  vote_count  ...  \\\n",
      "0     81.0                       Toy Story           7.7      5415.0  ...   \n",
      "1    101.0                Grumpier Old Men           6.5        92.0  ...   \n",
      "2    130.0                       GoldenEye           6.6      1194.0  ...   \n",
      "3     90.0  Ace Ventura: When Nature Calls           6.1      1128.0  ...   \n",
      "4    105.0                      Get Shorty           6.4       305.0  ...   \n",
      "\n",
      "   Mystery  Romance  Animation  Drama Comedy  Foreign  Adventure  \\\n",
      "0        0        0          1      0      1        0          0   \n",
      "1        0        1          0      0      1        0          0   \n",
      "2        0        0          0      0      0        0          1   \n",
      "3        0        0          0      0      1        0          1   \n",
      "4        0        0          0      0      1        0          0   \n",
      "\n",
      "   Science Fiction  Horror           director_recent_movie_ids  \n",
      "0                0       0        [13925, 13927, 13926, 13928]  \n",
      "1                0       0  [41579, 15143, 11522, 2617, 25269]  \n",
      "2                0       0        [10447, 41952, 52660, 41787]  \n",
      "3                0       0                                  []  \n",
      "4                0       0                  [2758, 9024, 2907]  \n",
      "\n",
      "[5 rows x 36 columns]\n"
     ]
    }
   ],
   "source": [
    "# director_movie_ids column 이름을 director_recent_movie_ids로 변경\n",
    "result_df.rename(columns={'director_movie_ids': 'director_recent_movie_ids'}, inplace=True)\n",
    "\n",
    "print(result_df.head())"
   ]
  },
  {
   "cell_type": "code",
   "execution_count": 14,
   "metadata": {},
   "outputs": [
    {
     "data": {
      "text/plain": [
       "director_recent_movie_ids\n",
       "0     286\n",
       "1     216\n",
       "2     188\n",
       "3     177\n",
       "4     125\n",
       "5      96\n",
       "6      58\n",
       "7      34\n",
       "8      21\n",
       "9       5\n",
       "15      2\n",
       "10      2\n",
       "24      1\n",
       "27      1\n",
       "17      1\n",
       "11      1\n",
       "13      1\n",
       "16      1\n",
       "12      1\n",
       "Name: count, dtype: int64"
      ]
     },
     "execution_count": 14,
     "metadata": {},
     "output_type": "execute_result"
    }
   ],
   "source": [
    "# director_recent_movie_ids 리스트의 원소 수 분포 구해보기 (value_counts)\n",
    "result_df['director_recent_movie_ids'].apply(len).value_counts()\n"
   ]
  },
  {
   "cell_type": "code",
   "execution_count": 17,
   "metadata": {},
   "outputs": [],
   "source": [
    "# Create a dictionary to map movie IDs to revenue values\n",
    "movie_revenue_dict = metadata.set_index('id')['revenue'].to_dict()\n",
    "\n",
    "# Define a function to calculate the average revenue for director_recent_movie_ids\n",
    "def calculate_average_revenue(row):\n",
    "    movie_ids = row['director_recent_movie_ids']\n",
    "    \n",
    "    # Get the revenue values for the movie IDs\n",
    "    revenues = [movie_revenue_dict.get(movie_id, 0) for movie_id in movie_ids if movie_revenue_dict.get(movie_id, 0) > 0]\n",
    "    \n",
    "    # Calculate the average revenue, excluding 0 values\n",
    "    if len(revenues) > 0:\n",
    "        return sum(revenues) / len(revenues)\n",
    "    else:\n",
    "        return 0\n",
    "\n",
    "# Apply the function to calculate the average revenue and add it as a new column in result_df\n",
    "result_df['average_director_movie_revenue'] = result_df.apply(calculate_average_revenue, axis=1)"
   ]
  },
  {
   "cell_type": "code",
   "execution_count": 21,
   "metadata": {},
   "outputs": [],
   "source": [
    "#결과 값 정수로 반올림\n",
    "result_df['average_director_movie_revenue'] = result_df['average_director_movie_revenue'].round().astype(int)"
   ]
  },
  {
   "cell_type": "code",
   "execution_count": 22,
   "metadata": {},
   "outputs": [],
   "source": [
    "# 저장\n",
    "result_df.to_csv('data/movies_cleaned_removed_onehot_director.csv', index=False)"
   ]
  },
  {
   "cell_type": "code",
   "execution_count": 23,
   "metadata": {},
   "outputs": [
    {
     "name": "stdout",
     "output_type": "stream",
     "text": [
      "437\n"
     ]
    }
   ],
   "source": [
    "# result_df에서 average_director_movie_revenue가 0인 값 갯수 출력\n",
    "print(result_df[result_df['average_director_movie_revenue'] == 0].shape[0])"
   ]
  },
  {
   "cell_type": "code",
   "execution_count": 26,
   "metadata": {},
   "outputs": [
    {
     "data": {
      "text/html": [
       "<div>\n",
       "<style scoped>\n",
       "    .dataframe tbody tr th:only-of-type {\n",
       "        vertical-align: middle;\n",
       "    }\n",
       "\n",
       "    .dataframe tbody tr th {\n",
       "        vertical-align: top;\n",
       "    }\n",
       "\n",
       "    .dataframe thead th {\n",
       "        text-align: right;\n",
       "    }\n",
       "</style>\n",
       "<table border=\"1\" class=\"dataframe\">\n",
       "  <thead>\n",
       "    <tr style=\"text-align: right;\">\n",
       "      <th></th>\n",
       "      <th>director_name</th>\n",
       "      <th>director_id</th>\n",
       "      <th>id</th>\n",
       "      <th>budget</th>\n",
       "      <th>popularity</th>\n",
       "      <th>revenue</th>\n",
       "      <th>runtime</th>\n",
       "      <th>title</th>\n",
       "      <th>vote_average</th>\n",
       "      <th>vote_count</th>\n",
       "      <th>...</th>\n",
       "      <th>Romance</th>\n",
       "      <th>Animation</th>\n",
       "      <th>Drama</th>\n",
       "      <th>Comedy</th>\n",
       "      <th>Foreign</th>\n",
       "      <th>Adventure</th>\n",
       "      <th>Science Fiction</th>\n",
       "      <th>Horror</th>\n",
       "      <th>director_recent_movie_ids</th>\n",
       "      <th>average_director_movie_revenue</th>\n",
       "    </tr>\n",
       "  </thead>\n",
       "  <tbody>\n",
       "    <tr>\n",
       "      <th>6</th>\n",
       "      <td>Paul W.S. Anderson</td>\n",
       "      <td>4014.0</td>\n",
       "      <td>9312</td>\n",
       "      <td>18000000</td>\n",
       "      <td>10.870138</td>\n",
       "      <td>122195920</td>\n",
       "      <td>101.0</td>\n",
       "      <td>Mortal Kombat</td>\n",
       "      <td>5.4</td>\n",
       "      <td>452.0</td>\n",
       "      <td>...</td>\n",
       "      <td>0</td>\n",
       "      <td>0</td>\n",
       "      <td>0</td>\n",
       "      <td>0</td>\n",
       "      <td>0</td>\n",
       "      <td>0</td>\n",
       "      <td>0</td>\n",
       "      <td>0</td>\n",
       "      <td>[45549]</td>\n",
       "      <td>0</td>\n",
       "    </tr>\n",
       "    <tr>\n",
       "      <th>37</th>\n",
       "      <td>Andrew Morahan</td>\n",
       "      <td>53599.0</td>\n",
       "      <td>8011</td>\n",
       "      <td>30000000</td>\n",
       "      <td>6.866634</td>\n",
       "      <td>36700000</td>\n",
       "      <td>99.0</td>\n",
       "      <td>Highlander: The Final Dimension</td>\n",
       "      <td>4.5</td>\n",
       "      <td>110.0</td>\n",
       "      <td>...</td>\n",
       "      <td>0</td>\n",
       "      <td>0</td>\n",
       "      <td>0</td>\n",
       "      <td>0</td>\n",
       "      <td>0</td>\n",
       "      <td>0</td>\n",
       "      <td>1</td>\n",
       "      <td>0</td>\n",
       "      <td>[20227]</td>\n",
       "      <td>0</td>\n",
       "    </tr>\n",
       "    <tr>\n",
       "      <th>56</th>\n",
       "      <td>Danny Boyle</td>\n",
       "      <td>2034.0</td>\n",
       "      <td>627</td>\n",
       "      <td>4000000</td>\n",
       "      <td>19.348466</td>\n",
       "      <td>72000000</td>\n",
       "      <td>93.0</td>\n",
       "      <td>Trainspotting</td>\n",
       "      <td>7.8</td>\n",
       "      <td>2737.0</td>\n",
       "      <td>...</td>\n",
       "      <td>0</td>\n",
       "      <td>0</td>\n",
       "      <td>1</td>\n",
       "      <td>0</td>\n",
       "      <td>0</td>\n",
       "      <td>0</td>\n",
       "      <td>0</td>\n",
       "      <td>0</td>\n",
       "      <td>[9905]</td>\n",
       "      <td>0</td>\n",
       "    </tr>\n",
       "    <tr>\n",
       "      <th>71</th>\n",
       "      <td>Brett Leonard</td>\n",
       "      <td>57090.0</td>\n",
       "      <td>10163</td>\n",
       "      <td>10000000</td>\n",
       "      <td>6.685948</td>\n",
       "      <td>32100816</td>\n",
       "      <td>108.0</td>\n",
       "      <td>The Lawnmower Man</td>\n",
       "      <td>5.4</td>\n",
       "      <td>198.0</td>\n",
       "      <td>...</td>\n",
       "      <td>0</td>\n",
       "      <td>0</td>\n",
       "      <td>0</td>\n",
       "      <td>0</td>\n",
       "      <td>0</td>\n",
       "      <td>0</td>\n",
       "      <td>1</td>\n",
       "      <td>1</td>\n",
       "      <td>[40448]</td>\n",
       "      <td>0</td>\n",
       "    </tr>\n",
       "    <tr>\n",
       "      <th>82</th>\n",
       "      <td>Ridley Scott</td>\n",
       "      <td>578.0</td>\n",
       "      <td>348</td>\n",
       "      <td>11000000</td>\n",
       "      <td>23.377420</td>\n",
       "      <td>104931801</td>\n",
       "      <td>117.0</td>\n",
       "      <td>Alien</td>\n",
       "      <td>7.9</td>\n",
       "      <td>4564.0</td>\n",
       "      <td>...</td>\n",
       "      <td>0</td>\n",
       "      <td>0</td>\n",
       "      <td>0</td>\n",
       "      <td>0</td>\n",
       "      <td>0</td>\n",
       "      <td>0</td>\n",
       "      <td>1</td>\n",
       "      <td>1</td>\n",
       "      <td>[19067]</td>\n",
       "      <td>0</td>\n",
       "    </tr>\n",
       "  </tbody>\n",
       "</table>\n",
       "<p>5 rows × 37 columns</p>\n",
       "</div>"
      ],
      "text/plain": [
       "         director_name  director_id     id    budget  popularity    revenue  \\\n",
       "6   Paul W.S. Anderson       4014.0   9312  18000000   10.870138  122195920   \n",
       "37      Andrew Morahan      53599.0   8011  30000000    6.866634   36700000   \n",
       "56         Danny Boyle       2034.0    627   4000000   19.348466   72000000   \n",
       "71       Brett Leonard      57090.0  10163  10000000    6.685948   32100816   \n",
       "82        Ridley Scott        578.0    348  11000000   23.377420  104931801   \n",
       "\n",
       "    runtime                            title  vote_average  vote_count  ...  \\\n",
       "6     101.0                    Mortal Kombat           5.4       452.0  ...   \n",
       "37     99.0  Highlander: The Final Dimension           4.5       110.0  ...   \n",
       "56     93.0                    Trainspotting           7.8      2737.0  ...   \n",
       "71    108.0                The Lawnmower Man           5.4       198.0  ...   \n",
       "82    117.0                            Alien           7.9      4564.0  ...   \n",
       "\n",
       "    Romance  Animation  Drama  Comedy Foreign  Adventure  Science Fiction  \\\n",
       "6         0          0      0       0       0          0                0   \n",
       "37        0          0      0       0       0          0                1   \n",
       "56        0          0      1       0       0          0                0   \n",
       "71        0          0      0       0       0          0                1   \n",
       "82        0          0      0       0       0          0                1   \n",
       "\n",
       "    Horror  director_recent_movie_ids  average_director_movie_revenue  \n",
       "6        0                    [45549]                               0  \n",
       "37       0                    [20227]                               0  \n",
       "56       0                     [9905]                               0  \n",
       "71       1                    [40448]                               0  \n",
       "82       1                    [19067]                               0  \n",
       "\n",
       "[5 rows x 37 columns]"
      ]
     },
     "execution_count": 26,
     "metadata": {},
     "output_type": "execute_result"
    }
   ],
   "source": [
    "# result_df에서 average_director_movie_revenue가 0인데 director_recent_movie_ids가 있는 df 만들기\n",
    "temp_df = result_df[(result_df['average_director_movie_revenue'] == 0) & (result_df['director_recent_movie_ids'].apply(len) > 0)]\n",
    "temp_df.head()"
   ]
  },
  {
   "cell_type": "markdown",
   "metadata": {},
   "source": [
    "- average_director_movie_revenue가 0인 행 갯수 : 437개\n",
    "- 그 중 애초에 근 10년 간 제작한 영화가 없었던 감독의 영화 갯수 : 286개 -> 이 경우 average값 0\n",
    "- 나머지 151개 처리 방법\n",
    "  - average_director_movie_revenue 값이 존재하는 데이터들에 한해 vote_count별 평균 revenue값 구하기\n",
    "  - direcotr_recent_movie_ids column에 있는 영화 번호들의 vote_count를 구하고 앞에 구해놓은 vote_count별 평균 revenue값을 이용해 적절한 revenue값 예상하기\n",
    "  - 그 revenue값들의 평균으로 average_director_movie_revenue값 채우기"
   ]
  },
  {
   "cell_type": "code",
   "execution_count": 29,
   "metadata": {},
   "outputs": [],
   "source": [
    "# Create a dictionary to map movie IDs to revenue and vote_count values\n",
    "movie_revenue_dict = metadata.set_index('id')['revenue'].to_dict()\n",
    "movie_vote_count_dict = metadata.set_index('id')['vote_count'].to_dict()\n",
    "\n",
    "# Step 1: Calculate vote_count-based average revenue for movies with non-zero revenue\n",
    "# Filter out movies with revenue > 0 and group by vote_count\n",
    "valid_revenues_df = metadata[metadata['revenue'] > 0]\n",
    "vote_count_avg_revenue = valid_revenues_df.groupby('vote_count')['revenue'].mean().to_dict()\n",
    "\n",
    "# Define a function to handle missing average_director_movie_revenue for the 151 cases\n",
    "def estimate_average_revenue(row):\n",
    "    # If the average_director_movie_revenue is non-zero, keep it as is\n",
    "    if row['average_director_movie_revenue'] > 0:\n",
    "        return row['average_director_movie_revenue']\n",
    "    \n",
    "    # Get the director's recent movie IDs\n",
    "    movie_ids = row['director_recent_movie_ids']\n",
    "    \n",
    "    # Get the vote_count for each movie and calculate an estimated revenue based on the average revenue per vote_count\n",
    "    estimated_revenues = []\n",
    "    for movie_id in movie_ids:\n",
    "        vote_count = movie_vote_count_dict.get(movie_id)\n",
    "        if vote_count in vote_count_avg_revenue:\n",
    "            estimated_revenues.append(vote_count_avg_revenue[vote_count])\n",
    "    \n",
    "    # Calculate the average of estimated revenues if available\n",
    "    if len(estimated_revenues) > 0:\n",
    "        return sum(estimated_revenues) / len(estimated_revenues)\n",
    "    else:\n",
    "        return 0\n",
    "\n",
    "# Apply the function to estimate the missing average_director_movie_revenue values\n",
    "result_df['average_director_movie_revenue'] = result_df.apply(estimate_average_revenue, axis=1)"
   ]
  },
  {
   "cell_type": "code",
   "execution_count": 34,
   "metadata": {},
   "outputs": [],
   "source": [
    "#average_director_movie_revenue 값 정수로 반올림\n",
    "result_df['average_director_movie_revenue'] = result_df['average_director_movie_revenue'].round().astype(int)"
   ]
  },
  {
   "cell_type": "code",
   "execution_count": 35,
   "metadata": {},
   "outputs": [],
   "source": [
    "# 결과 저장\n",
    "result_df.to_csv('data/movies_cleaned_removed_onehot_director2.csv', index=False)\n"
   ]
  },
  {
   "cell_type": "code",
   "execution_count": 36,
   "metadata": {},
   "outputs": [
    {
     "name": "stdout",
     "output_type": "stream",
     "text": [
      "286\n"
     ]
    }
   ],
   "source": []
  },
  {
   "cell_type": "markdown",
   "metadata": {},
   "source": []
  }
 ],
 "metadata": {
  "kernelspec": {
   "display_name": "base",
   "language": "python",
   "name": "python3"
  },
  "language_info": {
   "codemirror_mode": {
    "name": "ipython",
    "version": 3
   },
   "file_extension": ".py",
   "mimetype": "text/x-python",
   "name": "python",
   "nbconvert_exporter": "python",
   "pygments_lexer": "ipython3",
   "version": "3.10.14"
  }
 },
 "nbformat": 4,
 "nbformat_minor": 2
}
