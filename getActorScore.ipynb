{
 "cells": [
  {
   "cell_type": "code",
   "execution_count": 1,
   "metadata": {},
   "outputs": [],
   "source": [
    "import pandas as pd\n",
    "import ast"
   ]
  },
  {
   "cell_type": "code",
   "execution_count": 3,
   "metadata": {},
   "outputs": [
    {
     "name": "stdout",
     "output_type": "stream",
     "text": [
      "                                                cast  \\\n",
      "0  [{'cast_id': 14, 'character': 'Woody (voice)',...   \n",
      "1  [{'cast_id': 1, 'character': 'Alan Parrish', '...   \n",
      "2  [{'cast_id': 2, 'character': 'Max Goldman', 'c...   \n",
      "3  [{'cast_id': 1, 'character': \"Savannah 'Vannah...   \n",
      "4  [{'cast_id': 1, 'character': 'George Banks', '...   \n",
      "\n",
      "                                                crew     id  \n",
      "0  [{'credit_id': '52fe4284c3a36847f8024f49', 'de...    862  \n",
      "1  [{'credit_id': '52fe44bfc3a36847f80a7cd1', 'de...   8844  \n",
      "2  [{'credit_id': '52fe466a9251416c75077a89', 'de...  15602  \n",
      "3  [{'credit_id': '52fe44779251416c91011acb', 'de...  31357  \n",
      "4  [{'credit_id': '52fe44959251416c75039ed7', 'de...  11862  \n"
     ]
    }
   ],
   "source": [
    "cred = pd.read_csv('data/credits.csv')\n",
    "\n",
    "print(cred.head())"
   ]
  },
  {
   "cell_type": "code",
   "execution_count": 4,
   "metadata": {},
   "outputs": [],
   "source": [
    "# Define a function to extract the top 3 actors (order 0 to 2)\n",
    "def extract_top_actors(cast_data):\n",
    "    cast_list = ast.literal_eval(cast_data)\n",
    "    # Filter cast members by order 0, 1, 2\n",
    "    top_actors = [member for member in cast_list if member.get('order') in [0, 1, 2]]\n",
    "    # Initialize actor information with None\n",
    "    actors_info = [None] * 6\n",
    "    # Fill in the top 3 actors' information if available\n",
    "    for idx, actor in enumerate(top_actors[:3]):\n",
    "        actors_info[idx * 2] = actor.get('id')\n",
    "        actors_info[idx * 2 + 1] = actor.get('name')\n",
    "    return pd.Series(actors_info)\n",
    "\n",
    "# Apply the function to extract top 3 actors for each movie in credits_df\n",
    "cred[['actor1_id', 'actor1_name', 'actor2_id', 'actor2_name', 'actor3_id', 'actor3_name']] = cred['cast'].apply(extract_top_actors)\n",
    "\n",
    "# Select the relevant columns including movie ID\n",
    "actors_df = cred[['id', 'actor1_id', 'actor1_name', 'actor2_id', 'actor2_name', 'actor3_id', 'actor3_name']]"
   ]
  },
  {
   "cell_type": "code",
   "execution_count": 5,
   "metadata": {},
   "outputs": [
    {
     "data": {
      "text/html": [
       "<div>\n",
       "<style scoped>\n",
       "    .dataframe tbody tr th:only-of-type {\n",
       "        vertical-align: middle;\n",
       "    }\n",
       "\n",
       "    .dataframe tbody tr th {\n",
       "        vertical-align: top;\n",
       "    }\n",
       "\n",
       "    .dataframe thead th {\n",
       "        text-align: right;\n",
       "    }\n",
       "</style>\n",
       "<table border=\"1\" class=\"dataframe\">\n",
       "  <thead>\n",
       "    <tr style=\"text-align: right;\">\n",
       "      <th></th>\n",
       "      <th>id</th>\n",
       "      <th>actor1_id</th>\n",
       "      <th>actor1_name</th>\n",
       "      <th>actor2_id</th>\n",
       "      <th>actor2_name</th>\n",
       "      <th>actor3_id</th>\n",
       "      <th>actor3_name</th>\n",
       "    </tr>\n",
       "  </thead>\n",
       "  <tbody>\n",
       "    <tr>\n",
       "      <th>0</th>\n",
       "      <td>862</td>\n",
       "      <td>31.0</td>\n",
       "      <td>Tom Hanks</td>\n",
       "      <td>12898.0</td>\n",
       "      <td>Tim Allen</td>\n",
       "      <td>7167.0</td>\n",
       "      <td>Don Rickles</td>\n",
       "    </tr>\n",
       "    <tr>\n",
       "      <th>1</th>\n",
       "      <td>8844</td>\n",
       "      <td>2157.0</td>\n",
       "      <td>Robin Williams</td>\n",
       "      <td>8537.0</td>\n",
       "      <td>Jonathan Hyde</td>\n",
       "      <td>205.0</td>\n",
       "      <td>Kirsten Dunst</td>\n",
       "    </tr>\n",
       "    <tr>\n",
       "      <th>2</th>\n",
       "      <td>15602</td>\n",
       "      <td>6837.0</td>\n",
       "      <td>Walter Matthau</td>\n",
       "      <td>3151.0</td>\n",
       "      <td>Jack Lemmon</td>\n",
       "      <td>13567.0</td>\n",
       "      <td>Ann-Margret</td>\n",
       "    </tr>\n",
       "    <tr>\n",
       "      <th>3</th>\n",
       "      <td>31357</td>\n",
       "      <td>8851.0</td>\n",
       "      <td>Whitney Houston</td>\n",
       "      <td>9780.0</td>\n",
       "      <td>Angela Bassett</td>\n",
       "      <td>18284.0</td>\n",
       "      <td>Loretta Devine</td>\n",
       "    </tr>\n",
       "    <tr>\n",
       "      <th>4</th>\n",
       "      <td>11862</td>\n",
       "      <td>67773.0</td>\n",
       "      <td>Steve Martin</td>\n",
       "      <td>3092.0</td>\n",
       "      <td>Diane Keaton</td>\n",
       "      <td>519.0</td>\n",
       "      <td>Martin Short</td>\n",
       "    </tr>\n",
       "  </tbody>\n",
       "</table>\n",
       "</div>"
      ],
      "text/plain": [
       "      id  actor1_id      actor1_name  actor2_id     actor2_name  actor3_id  \\\n",
       "0    862       31.0        Tom Hanks    12898.0       Tim Allen     7167.0   \n",
       "1   8844     2157.0   Robin Williams     8537.0   Jonathan Hyde      205.0   \n",
       "2  15602     6837.0   Walter Matthau     3151.0     Jack Lemmon    13567.0   \n",
       "3  31357     8851.0  Whitney Houston     9780.0  Angela Bassett    18284.0   \n",
       "4  11862    67773.0     Steve Martin     3092.0    Diane Keaton      519.0   \n",
       "\n",
       "      actor3_name  \n",
       "0     Don Rickles  \n",
       "1   Kirsten Dunst  \n",
       "2     Ann-Margret  \n",
       "3  Loretta Devine  \n",
       "4    Martin Short  "
      ]
     },
     "execution_count": 5,
     "metadata": {},
     "output_type": "execute_result"
    }
   ],
   "source": [
    "actors_df.to_csv('data/actors.csv', index=False)"
   ]
  }
 ],
 "metadata": {
  "kernelspec": {
   "display_name": "base",
   "language": "python",
   "name": "python3"
  },
  "language_info": {
   "codemirror_mode": {
    "name": "ipython",
    "version": 3
   },
   "file_extension": ".py",
   "mimetype": "text/x-python",
   "name": "python",
   "nbconvert_exporter": "python",
   "pygments_lexer": "ipython3",
   "version": "3.10.14"
  }
 },
 "nbformat": 4,
 "nbformat_minor": 2
}
