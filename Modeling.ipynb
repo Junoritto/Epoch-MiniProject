{
 "cells": [
  {
   "cell_type": "code",
   "execution_count": 1,
   "metadata": {},
   "outputs": [],
   "source": [
    "import pandas as pd\n",
    "import numpy as np\n",
    "from sklearn.preprocessing import StandardScaler, MinMaxScaler, RobustScaler\n",
    "from sklearn.ensemble import RandomForestRegressor\n",
    "import lightgbm as lgb\n",
    "import xgboost as xgb\n",
    "from sklearn.model_selection import train_test_split, GridSearchCV\n",
    "from sklearn.metrics import r2_score, mean_absolute_error, mean_squared_error, mean_absolute_percentage_error\n",
    "from tensorflow.keras.models import Sequential\n",
    "from tensorflow.keras.layers import Dense, LSTM, Dropout\n",
    "from tensorflow.keras.optimizers import Adam\n",
    "import matplotlib.pyplot as plt\n",
    "import joblib"
   ]
  },
  {
   "cell_type": "markdown",
   "metadata": {},
   "source": [
    "## 1. 데이터 전처리 (로그 변환 + 스케일링)"
   ]
  },
  {
   "cell_type": "code",
   "execution_count": 2,
   "metadata": {},
   "outputs": [],
   "source": [
    "# 1. Preprocessing Pipeline\n",
    "def preprocess_data(train_path, test_path):\n",
    "    # Load datasets\n",
    "    train_df = pd.read_csv(train_path)\n",
    "    test_df = pd.read_csv(test_path)\n",
    "\n",
    "    # Log transform revenue\n",
    "    train_df['log_revenue'] = np.log1p(train_df['revenue'])\n",
    "    test_df['log_revenue'] = np.log1p(test_df['revenue'])\n",
    "\n",
    "    # Update the genre feature columns (assuming they are from 'War' to 'Horror')\n",
    "    genre_features = train_df.loc[:, 'War':'Horror'].columns.tolist()\n",
    "    features = [\n",
    "        'budget', 'popularity', 'runtime', 'vote_average', 'vote_count',\n",
    "        'release_year', 'collection_id', 'director_score', 'actor_score', 'production_score'] + genre_features\n",
    "\n",
    "    # Apply Scaler to numerical features\n",
    "    # scaler = RobustScaler()\n",
    "    # numerical_features = ['budget', 'popularity', 'runtime', 'vote_average', 'vote_count', 'director_score', 'actor_score', 'production_score']\n",
    "    # train_df[numerical_features] = scaler.fit_transform(train_df[numerical_features])\n",
    "    # test_df[numerical_features] = scaler.transform(test_df[numerical_features])\n",
    "\n",
    "    # Save scaler for future use\n",
    "    # joblib.dump(scaler, 'scaler.pkl')\n",
    "\n",
    "    # Return preprocessed data and feature list (LSTM 아닐 경우 주석 해제)\n",
    "    return train_df, test_df, features"
   ]
  },
  {
   "cell_type": "markdown",
   "metadata": {},
   "source": [
    "## 2. 모델 훈련"
   ]
  },
  {
   "cell_type": "markdown",
   "metadata": {},
   "source": [
    "### 2-1. 랜덤 포레스트"
   ]
  },
  {
   "cell_type": "code",
   "execution_count": 3,
   "metadata": {},
   "outputs": [],
   "source": [
    "# 2-1. Model Training Pipeline (Random Forest Regressor)\n",
    "def train_model_Random_Forest(X_train, y_train, model_params=None):\n",
    "    # Set default model parameters if none are provided\n",
    "    if model_params is None:\n",
    "        model_params = {'bootstrap': True, 'max_depth': 20, 'min_samples_leaf': 4, 'min_samples_split': 2, 'n_estimators': 200, 'random_state': 42}\n",
    "\n",
    "    # Initialize and train the model\n",
    "    model = RandomForestRegressor(**model_params)\n",
    "    model.fit(X_train, y_train)\n",
    "\n",
    "    # Save the trained model\n",
    "    # joblib.dump(model, 'model/series_movie_revenue_predictor_18.pkl')\n",
    "\n",
    "    return model\n"
   ]
  },
  {
   "cell_type": "markdown",
   "metadata": {},
   "source": [
    "#### 2-1-1. 랜덤 포레스트 : 하이퍼파라미터 튜닝"
   ]
  },
  {
   "cell_type": "code",
   "execution_count": 4,
   "metadata": {},
   "outputs": [],
   "source": [
    "def hyperparameter_tuning_Random_Forest(X_train, y_train):\n",
    "    # Set the parameters for grid search\n",
    "    param_grid = {\n",
    "        'n_estimators': [100, 200, 300, 400, 500],\n",
    "        'max_depth': [10, 20, 30, 40, 50, 60, 70, 80, 90, 100, None],\n",
    "        'min_samples_split': [2, 5, 10],\n",
    "        'min_samples_leaf': [1, 2, 4],\n",
    "        'bootstrap': [True, False]\n",
    "    }\n",
    "\n",
    "    # Initialize the model\n",
    "    model = RandomForestRegressor(random_state=42)\n",
    "\n",
    "    # Perform grid search\n",
    "    grid_search = GridSearchCV(estimator=model, param_grid=param_grid, cv=3, n_jobs=-1, verbose=2)\n",
    "    grid_search.fit(X_train, y_train)\n",
    "\n",
    "    print(\"Best Parameters:\", grid_search.best_params_)\n",
    "    # Return the best model\n",
    "    return grid_search.best_estimator_"
   ]
  },
  {
   "cell_type": "markdown",
   "metadata": {},
   "source": [
    "### 2-2. LGBM"
   ]
  },
  {
   "cell_type": "code",
   "execution_count": 5,
   "metadata": {},
   "outputs": [],
   "source": [
    "# Step 2-2. Model Training Pipeline (LightGBM Regressor)\n",
    "def train_model_lightgbm(X_train, y_train, model_params=None):\n",
    "    # Set default model parameters if none are provided\n",
    "    if model_params is None:\n",
    "        model_params = {\n",
    "            'boosting_type': 'gbdt',\n",
    "            'objective': 'regression',\n",
    "            'metric': 'mae',\n",
    "            'num_leaves': 31,\n",
    "            'learning_rate': 0.05,\n",
    "            'n_estimators': 100\n",
    "        }\n",
    "\n",
    "    # Initialize LightGBM model\n",
    "    model = lgb.LGBMRegressor(**model_params)\n",
    "\n",
    "    # Train the model\n",
    "    model.fit(X_train, y_train)\n",
    "\n",
    "    # Save the trained model\n",
    "    # joblib.dump(model, 'series_movie_revenue_predictor_lightgbm.pkl')\n",
    "\n",
    "    return model"
   ]
  },
  {
   "cell_type": "markdown",
   "metadata": {},
   "source": [
    "#### 2-2-1. LGBM : 하이퍼파라미터 튜닝"
   ]
  },
  {
   "cell_type": "code",
   "execution_count": 6,
   "metadata": {},
   "outputs": [],
   "source": [
    "# Step 2-2-1: LGBM Hyperparameter Tuning\n",
    "def hyperparameter_tuning_lightgbm(X_train, y_train):\n",
    "    param_grid = {\n",
    "        'num_leaves': [31, 50, 100, 200],\n",
    "        'learning_rate': [0.01, 0.05, 0.1],\n",
    "        'n_estimators': [100, 200, 300, 400],\n",
    "    }\n",
    "    model = lgb.LGBMRegressor(boosting_type='gbdt', objective='regression', metric='mae')\n",
    "    grid_search = GridSearchCV(estimator=model, param_grid=param_grid, cv=3, scoring='neg_mean_absolute_error')\n",
    "    grid_search.fit(X_train, y_train)\n",
    "\n",
    "    print(\"Best Parameters:\", grid_search.best_params_)\n",
    "    return grid_search.best_estimator_"
   ]
  },
  {
   "cell_type": "markdown",
   "metadata": {},
   "source": [
    "### 2-3. XGboost"
   ]
  },
  {
   "cell_type": "code",
   "execution_count": 7,
   "metadata": {},
   "outputs": [],
   "source": [
    "def train_model_xgboost(X_train, y_train, model_params=None):\n",
    "    # Set default model parameters if none are provided\n",
    "    if model_params is None:\n",
    "        model_params = {\n",
    "            'objective': 'reg:squarederror',\n",
    "            'learning_rate': 0.05,\n",
    "            'max_depth': 6,\n",
    "            'n_estimators': 100,\n",
    "            'random_state': 42\n",
    "        }\n",
    "\n",
    "    # Initialize XGBoost model\n",
    "    model = xgb.XGBRegressor(**model_params)\n",
    "\n",
    "    # Train the model\n",
    "    model.fit(X_train, y_train)\n",
    "\n",
    "    # Save the trained model\n",
    "    # joblib.dump(model, 'series_movie_revenue_predictor_xgboost.pkl')\n",
    "\n",
    "    return model"
   ]
  },
  {
   "cell_type": "markdown",
   "metadata": {},
   "source": [
    "#### 2-3-1. XGboost : 하이퍼파라미터 튜닝"
   ]
  },
  {
   "cell_type": "code",
   "execution_count": 8,
   "metadata": {},
   "outputs": [],
   "source": [
    "def hyperparameter_tuning_xgboost(X_train, y_train):\n",
    "    param_grid = {\n",
    "        'random_state': [42],\n",
    "        'learning_rate': [0.01, 0.05, 0.1],\n",
    "        'max_depth': [3, 6, 9],\n",
    "        'n_estimators': [100, 200, 300, 400]\n",
    "    }\n",
    "    model = xgb.XGBRegressor(objective='reg:squarederror')\n",
    "    grid_search = GridSearchCV(estimator=model, param_grid=param_grid, cv=3, scoring='neg_mean_absolute_error')\n",
    "    grid_search.fit(X_train, y_train)\n",
    "\n",
    "    print(\"Best Parameters:\", grid_search.best_params_)\n",
    "    return grid_search.best_estimator_"
   ]
  },
  {
   "cell_type": "markdown",
   "metadata": {},
   "source": [
    "## 3. 모델 평가 및 시각화"
   ]
  },
  {
   "cell_type": "markdown",
   "metadata": {},
   "source": [
    "### 3-1. LSTM 아닌 모델"
   ]
  },
  {
   "cell_type": "code",
   "execution_count": 9,
   "metadata": {},
   "outputs": [],
   "source": [
    "def evaluate_model(model, X_test, y_test_log):\n",
    "    # Predict on the test set (log scale)\n",
    "    y_test_pred_log = model.predict(X_test)\n",
    "\n",
    "    # Convert log predictions and actual values back to original scale\n",
    "    y_test_pred = np.expm1(y_test_pred_log)\n",
    "    y_test_actual = np.expm1(y_test_log)\n",
    "\n",
    "    # Calculate evaluation metrics\n",
    "    test_r2 = r2_score(y_test_actual, y_test_pred)\n",
    "    test_mae = mean_absolute_error(y_test_actual, y_test_pred)\n",
    "    test_rmse = np.sqrt(mean_squared_error(y_test_actual, y_test_pred))\n",
    "    test_mape = mean_absolute_percentage_error(y_test_actual, y_test_pred)\n",
    "\n",
    "    # Print evaluation metrics\n",
    "    print(f\"Test R2 Score: {test_r2}\")\n",
    "    print(f\"Test Mean Absolute Error (MAE): {test_mae}\")\n",
    "    print(f\"Test Root Mean Squared Error (RMSE): {test_rmse}\")\n",
    "    print(f\"Test Mean Absolute Percentage Error (MAPE): {test_mape}\")\n",
    "\n",
    "    # Plot actual vs predicted values for visual comparison\n",
    "    plt.figure(figsize=(10, 6))\n",
    "    plt.scatter(y_test_actual, y_test_pred, alpha=0.5)\n",
    "    plt.plot([y_test_actual.min(), y_test_actual.max()],\n",
    "             [y_test_actual.min(), y_test_actual.max()],\n",
    "             color='red', linestyle='--', linewidth=2)\n",
    "    plt.xlabel('Actual Revenue')\n",
    "    plt.ylabel('Predicted Revenue')\n",
    "    plt.title('Actual vs Predicted Revenue for Test Set (Log Transformation Applied)')\n",
    "    plt.show()"
   ]
  },
  {
   "cell_type": "code",
   "execution_count": 10,
   "metadata": {},
   "outputs": [],
   "source": [
    "train_path = 'data/maindata_ver2.0_train.csv'\n",
    "test_path = 'data/maindata_ver2.0_test.csv'"
   ]
  },
  {
   "cell_type": "code",
   "execution_count": 11,
   "metadata": {},
   "outputs": [],
   "source": [
    "# LSTM 아닌 경우\n",
    "train_df, test_df, features = preprocess_data(train_path, test_path)"
   ]
  },
  {
   "cell_type": "code",
   "execution_count": 12,
   "metadata": {},
   "outputs": [],
   "source": [
    "# Feature와 Target 분리 (LSTM 아닌 경우))\n",
    "X_train = train_df[features]\n",
    "y_train = train_df['log_revenue']\n",
    "X_test = test_df[features]\n",
    "y_test = test_df['log_revenue']"
   ]
  },
  {
   "cell_type": "code",
   "execution_count": 13,
   "metadata": {},
   "outputs": [
    {
     "name": "stdout",
     "output_type": "stream",
     "text": [
      "[LightGBM] [Warning] Found whitespace in feature_names, replace with underlines\n",
      "[LightGBM] [Info] Auto-choosing col-wise multi-threading, the overhead of testing was 0.000486 seconds.\n",
      "You can set `force_col_wise=true` to remove the overhead.\n",
      "[LightGBM] [Info] Total Bins 1846\n",
      "[LightGBM] [Info] Number of data points in the train set: 811, number of used features: 23\n",
      "[LightGBM] [Info] Start training from score 18.137836\n",
      "[LightGBM] [Warning] No further splits with positive gain, best gain: -inf\n",
      "[LightGBM] [Warning] No further splits with positive gain, best gain: -inf\n",
      "[LightGBM] [Warning] No further splits with positive gain, best gain: -inf\n",
      "[LightGBM] [Warning] No further splits with positive gain, best gain: -inf\n",
      "[LightGBM] [Warning] No further splits with positive gain, best gain: -inf\n",
      "[LightGBM] [Warning] No further splits with positive gain, best gain: -inf\n",
      "[LightGBM] [Warning] No further splits with positive gain, best gain: -inf\n",
      "[LightGBM] [Warning] No further splits with positive gain, best gain: -inf\n",
      "[LightGBM] [Warning] No further splits with positive gain, best gain: -inf\n",
      "[LightGBM] [Warning] No further splits with positive gain, best gain: -inf\n",
      "[LightGBM] [Warning] No further splits with positive gain, best gain: -inf\n",
      "[LightGBM] [Warning] No further splits with positive gain, best gain: -inf\n",
      "[LightGBM] [Warning] No further splits with positive gain, best gain: -inf\n",
      "[LightGBM] [Warning] No further splits with positive gain, best gain: -inf\n"
     ]
    }
   ],
   "source": [
    "# Train the model(LSTM 아닌 경우)\n",
    "model = train_model_lightgbm(X_train, y_train)\n"
   ]
  },
  {
   "cell_type": "code",
   "execution_count": 14,
   "metadata": {},
   "outputs": [
    {
     "name": "stdout",
     "output_type": "stream",
     "text": [
      "Test R2 Score: 0.8431842511764233\n",
      "Test Mean Absolute Error (MAE): 49835274.356220916\n",
      "Test Root Mean Squared Error (RMSE): 91928224.44167826\n",
      "Test Mean Absolute Percentage Error (MAPE): 8.000723188821448\n"
     ]
    },
    {
     "data": {
      "image/png": "[encoded data removed]",
      "text/plain": [
       "<Figure size 1000x600 with 1 Axes>"
      ]
     },
     "metadata": {},
     "output_type": "display_data"
    }
   ],
   "source": [
    "# Evaluate the model(LSTM 아닌 경우)\n",
    "evaluate_model(model, X_test, y_test)\n",
    "\n",
    "# Evaluate the model(LSTM인 경우)"
   ]
  },
  {
   "cell_type": "code",
   "execution_count": 15,
   "metadata": {},
   "outputs": [],
   "source": [
    "# Optional : Perform Hyperparameter Tuning\n",
    "# tuned_model = hyperparameter_tuning_lightgbm(X_train, y_train)\n",
    "# Evaluate the tuned model\n",
    "# evaluate_model(tuned_model, X_test, y_test)"
   ]
  },
  {
   "cell_type": "markdown",
   "metadata": {},
   "source": [
    "- 우우.. 결과가 아쉽다.."
   ]
  },
  {
   "cell_type": "code",
   "execution_count": 16,
   "metadata": {},
   "outputs": [
    {
     "name": "stdout",
     "output_type": "stream",
     "text": [
      "Average Revenue in Train Set: 194217759.48335388\n",
      "Average Revenue in Test Set: 147374012.87201735\n"
     ]
    }
   ],
   "source": [
    "average_revenue_train = train_df['revenue'].mean()\n",
    "average_revenue_test = test_df['revenue'].mean()\n",
    "\n",
    "print(f\"Average Revenue in Train Set: {average_revenue_train}\")\n",
    "print(f\"Average Revenue in Test Set: {average_revenue_test}\")"
   ]
  },
  {
   "cell_type": "markdown",
   "metadata": {},
   "source": []
  }
 ],
 "metadata": {
  "kernelspec": {
   "display_name": "base",
   "language": "python",
   "name": "python3"
  },
  "language_info": {
   "codemirror_mode": {
    "name": "ipython",
    "version": 3
   },
   "file_extension": ".py",
   "mimetype": "text/x-python",
   "name": "python",
   "nbconvert_exporter": "python",
   "pygments_lexer": "ipython3",
   "version": "3.10.15"
  }
 },
 "nbformat": 4,
 "nbformat_minor": 2
}
