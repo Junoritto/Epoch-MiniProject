{
 "cells": [
  {
   "cell_type": "markdown",
   "metadata": {},
   "source": [
    "# TMDB API에서 Revenue, Budget 가져오는 코드\n",
    "- csv파일 넣는 곳에 정제된 movies_metadata csv 넣으면 그 csv에 있는 영화 ID에 해당하는 revenue, budget 가져오는 코드\n",
    "- 최종 리턴되는 TMDB_df에는 ID, Revenue, Budget을 column으로 하는 DataFrame\n",
    "- 종종 csv 파일에는 있는데 현재 TMDB 사이트에서는 삭제되어 조회 불가능한 영화들도 있음.\n",
    "- 추후 원래 movies_metadata와 TMDB_df를 join하면 revenue, budget 결측치 최대한 줄일 수 있음.\n",
    "- 시간은 api에 속도 제한이 있어서 제법 오래 걸림.. 20~30분 정도?"
   ]
  },
  {
   "cell_type": "code",
   "execution_count": 1,
   "metadata": {},
   "outputs": [],
   "source": [
    "import requests\n",
    "import pandas as pd"
   ]
  },
  {
   "cell_type": "code",
   "execution_count": 5,
   "metadata": {},
   "outputs": [
    {
     "name": "stdout",
     "output_type": "stream",
     "text": [
      "Error fetching movie ID 56508: Status code 404\n",
      "Error fetching movie ID 56511: Status code 404\n",
      "Error fetching movie ID 56516: Status code 404\n",
      "Error fetching movie ID 56512: Status code 404\n",
      "Error fetching movie ID 56515: Status code 404\n",
      "Error fetching movie ID 18901: Status code 404\n",
      "Error fetching movie ID 101660: Status code 404\n",
      "Error fetching movie ID 140161: Status code 404\n",
      "Error fetching movie ID 46572: Status code 404\n",
      "Error fetching movie ID 259634: Status code 404\n",
      "Error fetching movie ID 213755: Status code 404\n",
      "Error fetching movie ID 65973: Status code 404\n",
      "Error fetching movie ID 47350: Status code 404\n",
      "Error fetching movie ID 71982: Status code 404\n",
      "Error fetching movie ID 30: Status code 404\n",
      "Error fetching movie ID 51765: Status code 404\n",
      "Error fetching movie ID 24057: Status code 404\n",
      "Error fetching movie ID 25180: Status code 404\n",
      "Error fetching movie ID 19792: Status code 404\n"
     ]
    }
   ],
   "source": [
    "# TMDB API key\n",
    "API_KEY = \"c4372d501f60e71786a10b13ff6db1c2\"\n",
    "\n",
    "# 영화 ID 목록 (movies_cleaned.csv에서 id 값들)\n",
    "movies_cleaned = pd.read_csv(\"./data/movies_cleaned.csv\")\n",
    "movie_cleaned_ids = movies_cleaned[\"id\"]\n",
    "\n",
    "movie_ids = movie_cleaned_ids.tolist()\n",
    "\n",
    "# TMDb API 요청 함수\n",
    "def get_movie_data(movie_id):\n",
    "  url = f\"https://api.themoviedb.org/3/movie/{movie_id}?api_key={API_KEY}\"\n",
    "  response = requests.get(url)\n",
    "  if response.status_code == 200:\n",
    "    return response.json()\n",
    "  else:\n",
    "    print(f\"Error fetching movie ID {movie_id}: Status code {response.status_code}\")\n",
    "    return None\n",
    "  \n",
    "TMDB_df = []\n",
    "\n",
    "# 영화 데이터를 가져와서 리스트에 추가\n",
    "for movie_id in movie_ids:\n",
    "  movie_data = get_movie_data(movie_id)\n",
    "  if movie_data:\n",
    "    movie_entry= {\n",
    "      \"id\": movie_data.get(\"id\"),\n",
    "      \"revenue\": movie_data.get(\"revenue\"),\n",
    "      \"budget\": movie_data.get(\"budget\"),\n",
    "    }\n",
    "    TMDB_df.append(movie_entry)\n",
    "\n",
    "TMDB_df = pd.DataFrame(TMDB_df)\n"
   ]
  }
 ],
 "metadata": {
  "kernelspec": {
   "display_name": "base",
   "language": "python",
   "name": "python3"
  },
  "language_info": {
   "codemirror_mode": {
    "name": "ipython",
    "version": 3
   },
   "file_extension": ".py",
   "mimetype": "text/x-python",
   "name": "python",
   "nbconvert_exporter": "python",
   "pygments_lexer": "ipython3",
   "version": "3.10.14"
  }
 },
 "nbformat": 4,
 "nbformat_minor": 2
}
