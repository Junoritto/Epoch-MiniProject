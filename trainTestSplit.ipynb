{
 "cells": [
  {
   "cell_type": "markdown",
   "metadata": {},
   "source": [
    "# train,test split\n",
    "- 지윤이가 분리한대로 maindata에 적용"
   ]
  },
  {
   "cell_type": "code",
   "execution_count": 1,
   "metadata": {},
   "outputs": [],
   "source": [
    "import pandas as pd"
   ]
  },
  {
   "cell_type": "code",
   "execution_count": 3,
   "metadata": {},
   "outputs": [],
   "source": [
    "original_train = pd.read_csv('data/train_set.csv')\n",
    "original_test = pd.read_csv('data/test_set.csv')\n",
    "main = pd.read_csv('data/maindata_ver1.2.csv')"
   ]
  },
  {
   "cell_type": "code",
   "execution_count": 4,
   "metadata": {},
   "outputs": [],
   "source": [
    "train_ids = original_train['id'].tolist()\n",
    "test_ids = original_test['id'].tolist()\n",
    "\n",
    "main_train = main[main['id'].isin(train_ids)]\n",
    "main_test = main[main['id'].isin(test_ids)]"
   ]
  },
  {
   "cell_type": "code",
   "execution_count": 7,
   "metadata": {},
   "outputs": [],
   "source": [
    "main_train.to_csv('data/maindata_ver1.2_train.csv', index=False)\n",
    "main_test.to_csv('data/maindata_ver1.2_test.csv', index=False)"
   ]
  }
 ],
 "metadata": {
  "kernelspec": {
   "display_name": "base",
   "language": "python",
   "name": "python3"
  },
  "language_info": {
   "codemirror_mode": {
    "name": "ipython",
    "version": 3
   },
   "file_extension": ".py",
   "mimetype": "text/x-python",
   "name": "python",
   "nbconvert_exporter": "python",
   "pygments_lexer": "ipython3",
   "version": "3.10.14"
  }
 },
 "nbformat": 4,
 "nbformat_minor": 2
}
